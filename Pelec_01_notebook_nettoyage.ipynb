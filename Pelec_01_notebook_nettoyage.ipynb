{
 "metadata": {
  "language_info": {
   "codemirror_mode": {
    "name": "ipython",
    "version": 3
   },
   "file_extension": ".py",
   "mimetype": "text/x-python",
   "name": "python",
   "nbconvert_exporter": "python",
   "pygments_lexer": "ipython3",
   "version": "3.8.3-final"
  },
  "orig_nbformat": 2,
  "kernelspec": {
   "name": "python3",
   "display_name": "Python 3",
   "language": "python"
  }
 },
 "nbformat": 4,
 "nbformat_minor": 2,
 "cells": [
  {
   "cell_type": "code",
   "execution_count": 1,
   "metadata": {},
   "outputs": [],
   "source": [
    "import pandas as pd\n",
    "import numpy as np\n",
    "import gpelletier.custom.fonctions as gpf\n",
    "\n",
    "data2015 = pd.read_csv('archive\\\\2015-building-energy-benchmarking.csv', sep=',')\n",
    "data2016 = pd.read_csv('archive\\\\2016-building-energy-benchmarking.csv', sep=',')\n",
    "\n",
    "nbr_lignes_2015 = data2015.shape[0]\n",
    "nbr_colonnes_2015 = data2015.shape[1]\n",
    "\n",
    "nbr_lignes_2016 = data2016.shape[0]\n",
    "nbr_colonnes_2016 = data2016.shape[1]"
   ]
  },
  {
   "cell_type": "code",
   "execution_count": 2,
   "metadata": {},
   "outputs": [
    {
     "output_type": "execute_result",
     "data": {
      "text/plain": [
       "   OSEBuildingID  DataYear    BuildingType PrimaryPropertyType  \\\n",
       "0              1      2015  NonResidential               Hotel   \n",
       "1              2      2015  NonResidential               Hotel   \n",
       "2              3      2015  NonResidential               Hotel   \n",
       "3              5      2015  NonResidential               Hotel   \n",
       "4              8      2015  NonResidential               Hotel   \n",
       "\n",
       "            PropertyName TaxParcelIdentificationNumber  \\\n",
       "0   MAYFLOWER PARK HOTEL                     659000030   \n",
       "1        PARAMOUNT HOTEL                     659000220   \n",
       "2           WESTIN HOTEL                     659000475   \n",
       "3              HOTEL MAX                     659000640   \n",
       "4  WARWICK SEATTLE HOTEL                     659000970   \n",
       "\n",
       "                                            Location  CouncilDistrictCode  \\\n",
       "0  {'latitude': '47.61219025', 'longitude': '-122...                    7   \n",
       "1  {'latitude': '47.61310583', 'longitude': '-122...                    7   \n",
       "2  {'latitude': '47.61334897', 'longitude': '-122...                    7   \n",
       "3  {'latitude': '47.61421585', 'longitude': '-122...                    7   \n",
       "4  {'latitude': '47.6137544', 'longitude': '-122....                    7   \n",
       "\n",
       "  Neighborhood  YearBuilt  ...  GHGEmissionsIntensity(kgCO2e/ft2)  \\\n",
       "0     DOWNTOWN       1927  ...                               2.64   \n",
       "1     DOWNTOWN       1996  ...                               2.38   \n",
       "2     DOWNTOWN       1969  ...                               1.92   \n",
       "3     DOWNTOWN       1926  ...                              31.38   \n",
       "4     DOWNTOWN       1980  ...                               4.02   \n",
       "\n",
       "   DefaultData  Comment  ComplianceStatus       Outlier 2010 Census Tracts  \\\n",
       "0           No      NaN         Compliant           NaN                NaN   \n",
       "1           No      NaN         Compliant           NaN                NaN   \n",
       "2          Yes      NaN         Compliant           NaN                NaN   \n",
       "3           No      NaN         Compliant  High Outlier                NaN   \n",
       "4           No      NaN         Compliant           NaN                NaN   \n",
       "\n",
       "  Seattle Police Department Micro Community Policing Plan Areas  \\\n",
       "0                                               14.0              \n",
       "1                                               14.0              \n",
       "2                                               56.0              \n",
       "3                                               56.0              \n",
       "4                                               56.0              \n",
       "\n",
       "   City Council Districts SPD Beats  Zip Codes  \n",
       "0                     NaN      31.0      18081  \n",
       "1                     NaN      31.0      18081  \n",
       "2                     NaN      31.0      18081  \n",
       "3                     NaN      31.0      18081  \n",
       "4                     NaN      31.0      19576  \n",
       "\n",
       "[5 rows x 47 columns]"
      ],
      "text/html": "<div>\n<style scoped>\n    .dataframe tbody tr th:only-of-type {\n        vertical-align: middle;\n    }\n\n    .dataframe tbody tr th {\n        vertical-align: top;\n    }\n\n    .dataframe thead th {\n        text-align: right;\n    }\n</style>\n<table border=\"1\" class=\"dataframe\">\n  <thead>\n    <tr style=\"text-align: right;\">\n      <th></th>\n      <th>OSEBuildingID</th>\n      <th>DataYear</th>\n      <th>BuildingType</th>\n      <th>PrimaryPropertyType</th>\n      <th>PropertyName</th>\n      <th>TaxParcelIdentificationNumber</th>\n      <th>Location</th>\n      <th>CouncilDistrictCode</th>\n      <th>Neighborhood</th>\n      <th>YearBuilt</th>\n      <th>...</th>\n      <th>GHGEmissionsIntensity(kgCO2e/ft2)</th>\n      <th>DefaultData</th>\n      <th>Comment</th>\n      <th>ComplianceStatus</th>\n      <th>Outlier</th>\n      <th>2010 Census Tracts</th>\n      <th>Seattle Police Department Micro Community Policing Plan Areas</th>\n      <th>City Council Districts</th>\n      <th>SPD Beats</th>\n      <th>Zip Codes</th>\n    </tr>\n  </thead>\n  <tbody>\n    <tr>\n      <th>0</th>\n      <td>1</td>\n      <td>2015</td>\n      <td>NonResidential</td>\n      <td>Hotel</td>\n      <td>MAYFLOWER PARK HOTEL</td>\n      <td>659000030</td>\n      <td>{'latitude': '47.61219025', 'longitude': '-122...</td>\n      <td>7</td>\n      <td>DOWNTOWN</td>\n      <td>1927</td>\n      <td>...</td>\n      <td>2.64</td>\n      <td>No</td>\n      <td>NaN</td>\n      <td>Compliant</td>\n      <td>NaN</td>\n      <td>NaN</td>\n      <td>14.0</td>\n      <td>NaN</td>\n      <td>31.0</td>\n      <td>18081</td>\n    </tr>\n    <tr>\n      <th>1</th>\n      <td>2</td>\n      <td>2015</td>\n      <td>NonResidential</td>\n      <td>Hotel</td>\n      <td>PARAMOUNT HOTEL</td>\n      <td>659000220</td>\n      <td>{'latitude': '47.61310583', 'longitude': '-122...</td>\n      <td>7</td>\n      <td>DOWNTOWN</td>\n      <td>1996</td>\n      <td>...</td>\n      <td>2.38</td>\n      <td>No</td>\n      <td>NaN</td>\n      <td>Compliant</td>\n      <td>NaN</td>\n      <td>NaN</td>\n      <td>14.0</td>\n      <td>NaN</td>\n      <td>31.0</td>\n      <td>18081</td>\n    </tr>\n    <tr>\n      <th>2</th>\n      <td>3</td>\n      <td>2015</td>\n      <td>NonResidential</td>\n      <td>Hotel</td>\n      <td>WESTIN HOTEL</td>\n      <td>659000475</td>\n      <td>{'latitude': '47.61334897', 'longitude': '-122...</td>\n      <td>7</td>\n      <td>DOWNTOWN</td>\n      <td>1969</td>\n      <td>...</td>\n      <td>1.92</td>\n      <td>Yes</td>\n      <td>NaN</td>\n      <td>Compliant</td>\n      <td>NaN</td>\n      <td>NaN</td>\n      <td>56.0</td>\n      <td>NaN</td>\n      <td>31.0</td>\n      <td>18081</td>\n    </tr>\n    <tr>\n      <th>3</th>\n      <td>5</td>\n      <td>2015</td>\n      <td>NonResidential</td>\n      <td>Hotel</td>\n      <td>HOTEL MAX</td>\n      <td>659000640</td>\n      <td>{'latitude': '47.61421585', 'longitude': '-122...</td>\n      <td>7</td>\n      <td>DOWNTOWN</td>\n      <td>1926</td>\n      <td>...</td>\n      <td>31.38</td>\n      <td>No</td>\n      <td>NaN</td>\n      <td>Compliant</td>\n      <td>High Outlier</td>\n      <td>NaN</td>\n      <td>56.0</td>\n      <td>NaN</td>\n      <td>31.0</td>\n      <td>18081</td>\n    </tr>\n    <tr>\n      <th>4</th>\n      <td>8</td>\n      <td>2015</td>\n      <td>NonResidential</td>\n      <td>Hotel</td>\n      <td>WARWICK SEATTLE HOTEL</td>\n      <td>659000970</td>\n      <td>{'latitude': '47.6137544', 'longitude': '-122....</td>\n      <td>7</td>\n      <td>DOWNTOWN</td>\n      <td>1980</td>\n      <td>...</td>\n      <td>4.02</td>\n      <td>No</td>\n      <td>NaN</td>\n      <td>Compliant</td>\n      <td>NaN</td>\n      <td>NaN</td>\n      <td>56.0</td>\n      <td>NaN</td>\n      <td>31.0</td>\n      <td>19576</td>\n    </tr>\n  </tbody>\n</table>\n<p>5 rows × 47 columns</p>\n</div>"
     },
     "metadata": {},
     "execution_count": 2
    }
   ],
   "source": [
    "#Visualisation des donnees:\n",
    "data2015.head()"
   ]
  },
  {
   "cell_type": "code",
   "execution_count": 3,
   "metadata": {},
   "outputs": [
    {
     "output_type": "execute_result",
     "data": {
      "text/plain": [
       "   OSEBuildingID  DataYear    BuildingType PrimaryPropertyType  \\\n",
       "0              1      2016  NonResidential               Hotel   \n",
       "1              2      2016  NonResidential               Hotel   \n",
       "2              3      2016  NonResidential               Hotel   \n",
       "3              5      2016  NonResidential               Hotel   \n",
       "4              8      2016  NonResidential               Hotel   \n",
       "\n",
       "                  PropertyName          Address     City State  ZipCode  \\\n",
       "0         Mayflower park hotel    405 Olive way  Seattle    WA  98101.0   \n",
       "1              Paramount Hotel  724 Pine street  Seattle    WA  98101.0   \n",
       "2      5673-The Westin Seattle  1900 5th Avenue  Seattle    WA  98101.0   \n",
       "3                    HOTEL MAX   620 STEWART ST  Seattle    WA  98101.0   \n",
       "4  WARWICK SEATTLE HOTEL (ID8)    401 LENORA ST  Seattle    WA  98121.0   \n",
       "\n",
       "  TaxParcelIdentificationNumber  ...  Electricity(kWh) Electricity(kBtu)  \\\n",
       "0                    0659000030  ...      1.156514e+06         3946027.0   \n",
       "1                    0659000220  ...      9.504252e+05         3242851.0   \n",
       "2                    0659000475  ...      1.451544e+07        49526664.0   \n",
       "3                    0659000640  ...      8.115253e+05         2768924.0   \n",
       "4                    0659000970  ...      1.573449e+06         5368607.0   \n",
       "\n",
       "   NaturalGas(therms)  NaturalGas(kBtu)  DefaultData  Comments  \\\n",
       "0         12764.52930         1276453.0        False       NaN   \n",
       "1         51450.81641         5145082.0        False       NaN   \n",
       "2         14938.00000         1493800.0        False       NaN   \n",
       "3         18112.13086         1811213.0        False       NaN   \n",
       "4         88039.98438         8803998.0        False       NaN   \n",
       "\n",
       "   ComplianceStatus  Outlier  TotalGHGEmissions  GHGEmissionsIntensity  \n",
       "0         Compliant      NaN             249.98                   2.83  \n",
       "1         Compliant      NaN             295.86                   2.86  \n",
       "2         Compliant      NaN            2089.28                   2.19  \n",
       "3         Compliant      NaN             286.43                   4.67  \n",
       "4         Compliant      NaN             505.01                   2.88  \n",
       "\n",
       "[5 rows x 46 columns]"
      ],
      "text/html": "<div>\n<style scoped>\n    .dataframe tbody tr th:only-of-type {\n        vertical-align: middle;\n    }\n\n    .dataframe tbody tr th {\n        vertical-align: top;\n    }\n\n    .dataframe thead th {\n        text-align: right;\n    }\n</style>\n<table border=\"1\" class=\"dataframe\">\n  <thead>\n    <tr style=\"text-align: right;\">\n      <th></th>\n      <th>OSEBuildingID</th>\n      <th>DataYear</th>\n      <th>BuildingType</th>\n      <th>PrimaryPropertyType</th>\n      <th>PropertyName</th>\n      <th>Address</th>\n      <th>City</th>\n      <th>State</th>\n      <th>ZipCode</th>\n      <th>TaxParcelIdentificationNumber</th>\n      <th>...</th>\n      <th>Electricity(kWh)</th>\n      <th>Electricity(kBtu)</th>\n      <th>NaturalGas(therms)</th>\n      <th>NaturalGas(kBtu)</th>\n      <th>DefaultData</th>\n      <th>Comments</th>\n      <th>ComplianceStatus</th>\n      <th>Outlier</th>\n      <th>TotalGHGEmissions</th>\n      <th>GHGEmissionsIntensity</th>\n    </tr>\n  </thead>\n  <tbody>\n    <tr>\n      <th>0</th>\n      <td>1</td>\n      <td>2016</td>\n      <td>NonResidential</td>\n      <td>Hotel</td>\n      <td>Mayflower park hotel</td>\n      <td>405 Olive way</td>\n      <td>Seattle</td>\n      <td>WA</td>\n      <td>98101.0</td>\n      <td>0659000030</td>\n      <td>...</td>\n      <td>1.156514e+06</td>\n      <td>3946027.0</td>\n      <td>12764.52930</td>\n      <td>1276453.0</td>\n      <td>False</td>\n      <td>NaN</td>\n      <td>Compliant</td>\n      <td>NaN</td>\n      <td>249.98</td>\n      <td>2.83</td>\n    </tr>\n    <tr>\n      <th>1</th>\n      <td>2</td>\n      <td>2016</td>\n      <td>NonResidential</td>\n      <td>Hotel</td>\n      <td>Paramount Hotel</td>\n      <td>724 Pine street</td>\n      <td>Seattle</td>\n      <td>WA</td>\n      <td>98101.0</td>\n      <td>0659000220</td>\n      <td>...</td>\n      <td>9.504252e+05</td>\n      <td>3242851.0</td>\n      <td>51450.81641</td>\n      <td>5145082.0</td>\n      <td>False</td>\n      <td>NaN</td>\n      <td>Compliant</td>\n      <td>NaN</td>\n      <td>295.86</td>\n      <td>2.86</td>\n    </tr>\n    <tr>\n      <th>2</th>\n      <td>3</td>\n      <td>2016</td>\n      <td>NonResidential</td>\n      <td>Hotel</td>\n      <td>5673-The Westin Seattle</td>\n      <td>1900 5th Avenue</td>\n      <td>Seattle</td>\n      <td>WA</td>\n      <td>98101.0</td>\n      <td>0659000475</td>\n      <td>...</td>\n      <td>1.451544e+07</td>\n      <td>49526664.0</td>\n      <td>14938.00000</td>\n      <td>1493800.0</td>\n      <td>False</td>\n      <td>NaN</td>\n      <td>Compliant</td>\n      <td>NaN</td>\n      <td>2089.28</td>\n      <td>2.19</td>\n    </tr>\n    <tr>\n      <th>3</th>\n      <td>5</td>\n      <td>2016</td>\n      <td>NonResidential</td>\n      <td>Hotel</td>\n      <td>HOTEL MAX</td>\n      <td>620 STEWART ST</td>\n      <td>Seattle</td>\n      <td>WA</td>\n      <td>98101.0</td>\n      <td>0659000640</td>\n      <td>...</td>\n      <td>8.115253e+05</td>\n      <td>2768924.0</td>\n      <td>18112.13086</td>\n      <td>1811213.0</td>\n      <td>False</td>\n      <td>NaN</td>\n      <td>Compliant</td>\n      <td>NaN</td>\n      <td>286.43</td>\n      <td>4.67</td>\n    </tr>\n    <tr>\n      <th>4</th>\n      <td>8</td>\n      <td>2016</td>\n      <td>NonResidential</td>\n      <td>Hotel</td>\n      <td>WARWICK SEATTLE HOTEL (ID8)</td>\n      <td>401 LENORA ST</td>\n      <td>Seattle</td>\n      <td>WA</td>\n      <td>98121.0</td>\n      <td>0659000970</td>\n      <td>...</td>\n      <td>1.573449e+06</td>\n      <td>5368607.0</td>\n      <td>88039.98438</td>\n      <td>8803998.0</td>\n      <td>False</td>\n      <td>NaN</td>\n      <td>Compliant</td>\n      <td>NaN</td>\n      <td>505.01</td>\n      <td>2.88</td>\n    </tr>\n  </tbody>\n</table>\n<p>5 rows × 46 columns</p>\n</div>"
     },
     "metadata": {},
     "execution_count": 3
    }
   ],
   "source": [
    "data2016.head()"
   ]
  },
  {
   "cell_type": "code",
   "execution_count": 4,
   "metadata": {},
   "outputs": [],
   "source": [
    "#On constate que, entre les tableaux data2015 et data2016, les features n'ont pas toutes les memes noms.\n",
    "#On modifie les noms des colonnes de data2016 pour qu'elles soient coherentes avec celles de data2015.\n",
    "data2016 = data2016.rename(columns={'TotalGHGEmissions': 'GHGEmissions(MetricTonsCO2e)', 'GHGEmissionsIntensity': 'GHGEmissionsIntensity(kgCO2e/ft2)', 'ZipCode': 'Zip Codes'})"
   ]
  },
  {
   "cell_type": "code",
   "execution_count": 12,
   "metadata": {},
   "outputs": [],
   "source": [
    "#L'entrainement se fera avec le dataset data2015.\n",
    "#Les choix de colonnes a etudier se fera via ce dataset.\n",
    "#On choisira les memes features pour data2016."
   ]
  },
  {
   "cell_type": "code",
   "execution_count": 5,
   "metadata": {},
   "outputs": [
    {
     "output_type": "execute_result",
     "data": {
      "text/plain": [
       "float64    23\n",
       "object     15\n",
       "int64       9\n",
       "dtype: int64"
      ]
     },
     "metadata": {},
     "execution_count": 5
    }
   ],
   "source": [
    "#De quel type de colonnes/features est compose ce tableau ?\n",
    "data2015.dtypes.value_counts()"
   ]
  },
  {
   "cell_type": "code",
   "execution_count": null,
   "metadata": {},
   "outputs": [],
   "source": [
    "#Il y a 15 features contenant des string, et 32 features quantitatives"
   ]
  },
  {
   "cell_type": "code",
   "execution_count": 4,
   "metadata": {},
   "outputs": [
    {
     "output_type": "execute_result",
     "data": {
      "text/plain": [
       "False    47\n",
       "dtype: int64"
      ]
     },
     "metadata": {},
     "execution_count": 4
    }
   ],
   "source": [
    "#Nombre de colonnes completement vides:\n",
    "((data2015.isnull().sum() / len(data2015)) == 1).value_counts()"
   ]
  },
  {
   "cell_type": "code",
   "execution_count": null,
   "metadata": {},
   "outputs": [],
   "source": [
    "#Aucune colonne n'est completement vide."
   ]
  },
  {
   "cell_type": "code",
   "execution_count": 6,
   "metadata": {},
   "outputs": [
    {
     "output_type": "stream",
     "name": "stdout",
     "text": [
      "<class 'pandas.core.frame.DataFrame'>\nRangeIndex: 3340 entries, 0 to 3339\nData columns (total 47 columns):\n #   Column                                                         Non-Null Count  Dtype  \n---  ------                                                         --------------  -----  \n 0   OSEBuildingID                                                  3340 non-null   int64  \n 1   DataYear                                                       3340 non-null   int64  \n 2   BuildingType                                                   3340 non-null   object \n 3   PrimaryPropertyType                                            3340 non-null   object \n 4   PropertyName                                                   3340 non-null   object \n 5   TaxParcelIdentificationNumber                                  3338 non-null   object \n 6   Location                                                       3340 non-null   object \n 7   CouncilDistrictCode                                            3340 non-null   int64  \n 8   Neighborhood                                                   3340 non-null   object \n 9   YearBuilt                                                      3340 non-null   int64  \n 10  NumberofBuildings                                              3340 non-null   int64  \n 11  NumberofFloors                                                 3332 non-null   float64\n 12  PropertyGFATotal                                               3340 non-null   int64  \n 13  PropertyGFAParking                                             3340 non-null   int64  \n 14  PropertyGFABuilding(s)                                         3340 non-null   int64  \n 15  ListOfAllPropertyUseTypes                                      3213 non-null   object \n 16  LargestPropertyUseType                                         3204 non-null   object \n 17  LargestPropertyUseTypeGFA                                      3204 non-null   float64\n 18  SecondLargestPropertyUseType                                   1559 non-null   object \n 19  SecondLargestPropertyUseTypeGFA                                1559 non-null   float64\n 20  ThirdLargestPropertyUseType                                    560 non-null    object \n 21  ThirdLargestPropertyUseTypeGFA                                 560 non-null    float64\n 22  YearsENERGYSTARCertified                                       110 non-null    object \n 23  ENERGYSTARScore                                                2560 non-null   float64\n 24  SiteEUI(kBtu/sf)                                               3330 non-null   float64\n 25  SiteEUIWN(kBtu/sf)                                             3330 non-null   float64\n 26  SourceEUI(kBtu/sf)                                             3330 non-null   float64\n 27  SourceEUIWN(kBtu/sf)                                           3330 non-null   float64\n 28  SiteEnergyUse(kBtu)                                            3330 non-null   float64\n 29  SiteEnergyUseWN(kBtu)                                          3330 non-null   float64\n 30  SteamUse(kBtu)                                                 3330 non-null   float64\n 31  Electricity(kWh)                                               3330 non-null   float64\n 32  Electricity(kBtu)                                              3330 non-null   float64\n 33  NaturalGas(therms)                                             3330 non-null   float64\n 34  NaturalGas(kBtu)                                               3330 non-null   float64\n 35  OtherFuelUse(kBtu)                                             3330 non-null   float64\n 36  GHGEmissions(MetricTonsCO2e)                                   3330 non-null   float64\n 37  GHGEmissionsIntensity(kgCO2e/ft2)                              3330 non-null   float64\n 38  DefaultData                                                    3339 non-null   object \n 39  Comment                                                        13 non-null     object \n 40  ComplianceStatus                                               3340 non-null   object \n 41  Outlier                                                        84 non-null     object \n 42  2010 Census Tracts                                             224 non-null    float64\n 43  Seattle Police Department Micro Community Policing Plan Areas  3338 non-null   float64\n 44  City Council Districts                                         213 non-null    float64\n 45  SPD Beats                                                      3338 non-null   float64\n 46  Zip Codes                                                      3340 non-null   int64  \ndtypes: float64(23), int64(9), object(15)\nmemory usage: 1.2+ MB\n"
     ]
    }
   ],
   "source": [
    "#Memoire RAM utilisee:\n",
    "data2015.info()"
   ]
  },
  {
   "cell_type": "code",
   "execution_count": 7,
   "metadata": {},
   "outputs": [
    {
     "output_type": "stream",
     "name": "stdout",
     "text": [
      "<class 'pandas.core.frame.DataFrame'>\nRangeIndex: 3376 entries, 0 to 3375\nData columns (total 46 columns):\n #   Column                             Non-Null Count  Dtype  \n---  ------                             --------------  -----  \n 0   OSEBuildingID                      3376 non-null   int64  \n 1   DataYear                           3376 non-null   int64  \n 2   BuildingType                       3376 non-null   object \n 3   PrimaryPropertyType                3376 non-null   object \n 4   PropertyName                       3376 non-null   object \n 5   Address                            3376 non-null   object \n 6   City                               3376 non-null   object \n 7   State                              3376 non-null   object \n 8   Zip Codes                          3360 non-null   float64\n 9   TaxParcelIdentificationNumber      3376 non-null   object \n 10  CouncilDistrictCode                3376 non-null   int64  \n 11  Neighborhood                       3376 non-null   object \n 12  Latitude                           3376 non-null   float64\n 13  Longitude                          3376 non-null   float64\n 14  YearBuilt                          3376 non-null   int64  \n 15  NumberofBuildings                  3368 non-null   float64\n 16  NumberofFloors                     3376 non-null   int64  \n 17  PropertyGFATotal                   3376 non-null   int64  \n 18  PropertyGFAParking                 3376 non-null   int64  \n 19  PropertyGFABuilding(s)             3376 non-null   int64  \n 20  ListOfAllPropertyUseTypes          3367 non-null   object \n 21  LargestPropertyUseType             3356 non-null   object \n 22  LargestPropertyUseTypeGFA          3356 non-null   float64\n 23  SecondLargestPropertyUseType       1679 non-null   object \n 24  SecondLargestPropertyUseTypeGFA    1679 non-null   float64\n 25  ThirdLargestPropertyUseType        596 non-null    object \n 26  ThirdLargestPropertyUseTypeGFA     596 non-null    float64\n 27  YearsENERGYSTARCertified           119 non-null    object \n 28  ENERGYSTARScore                    2533 non-null   float64\n 29  SiteEUI(kBtu/sf)                   3369 non-null   float64\n 30  SiteEUIWN(kBtu/sf)                 3370 non-null   float64\n 31  SourceEUI(kBtu/sf)                 3367 non-null   float64\n 32  SourceEUIWN(kBtu/sf)               3367 non-null   float64\n 33  SiteEnergyUse(kBtu)                3371 non-null   float64\n 34  SiteEnergyUseWN(kBtu)              3370 non-null   float64\n 35  SteamUse(kBtu)                     3367 non-null   float64\n 36  Electricity(kWh)                   3367 non-null   float64\n 37  Electricity(kBtu)                  3367 non-null   float64\n 38  NaturalGas(therms)                 3367 non-null   float64\n 39  NaturalGas(kBtu)                   3367 non-null   float64\n 40  DefaultData                        3376 non-null   bool   \n 41  Comments                           0 non-null      float64\n 42  ComplianceStatus                   3376 non-null   object \n 43  Outlier                            32 non-null     object \n 44  GHGEmissions(MetricTonsCO2e)       3367 non-null   float64\n 45  GHGEmissionsIntensity(kgCO2e/ft2)  3367 non-null   float64\ndtypes: bool(1), float64(22), int64(8), object(15)\nmemory usage: 1.2+ MB\n"
     ]
    }
   ],
   "source": [
    "data2016.info()"
   ]
  },
  {
   "cell_type": "code",
   "execution_count": null,
   "metadata": {},
   "outputs": [],
   "source": [
    "#Actuellement, ces donnees utilisent 1.2MB de memoire RAM."
   ]
  },
  {
   "cell_type": "code",
   "execution_count": null,
   "metadata": {},
   "outputs": [],
   "source": [
    "#----------------------#"
   ]
  },
  {
   "cell_type": "code",
   "execution_count": null,
   "metadata": {},
   "outputs": [],
   "source": [
    "#Quelques precisions trouvees sur internet:"
   ]
  },
  {
   "cell_type": "code",
   "execution_count": 40,
   "metadata": {},
   "outputs": [],
   "source": [
    "#GFA = surface hors oeuvre brute\n",
    "#La surface hors œuvre brute (SHOB) des constructions est égale à la somme des surfaces de chaque niveau, des surfaces des toitures-terrasses, des balcons ou loggias et des surfaces non closes situées au rez-de-chaussée, y compris l’épaisseur des murs et des cloisons.\n",
    "\n",
    "#Sont compris les combles et sous-sols, aménageables ou non, les balcons, les loggias et toitures-terrasses.\n",
    "#Ne sont pas compris les éléments ne constituant pas de surface de plancher, comme les terrasses non couvertes de plain-pied avec le rez-de-chaussée, les saillies à caractère décoratif, les vides (trémies d'ascenseur ou d'escalier, rampes d'accès)."
   ]
  },
  {
   "cell_type": "code",
   "execution_count": null,
   "metadata": {},
   "outputs": [],
   "source": [
    "#1 metric ton = 1,000 kilograms"
   ]
  },
  {
   "cell_type": "code",
   "execution_count": null,
   "metadata": {},
   "outputs": [],
   "source": [
    "#kBtu : thousands of British thermal units (kBtu) per square foot\n",
    " #Energy use intensity expresses a building’s energy use as a function of its size, typically in energy per square foot per year (kBtu/sf/yr). It’s calculated by dividing the total energy consumed by the building in one year (often measured in kBtu) by the total floor area of the building (often measured in square feet), and can be useful for comparing performance of buildings across sizes, types, and locations."
   ]
  },
  {
   "cell_type": "code",
   "execution_count": null,
   "metadata": {},
   "outputs": [],
   "source": [
    "#----------------------#"
   ]
  },
  {
   "cell_type": "code",
   "execution_count": null,
   "metadata": {},
   "outputs": [],
   "source": [
    "#Les features a predire sont :\n",
    "# - SiteEnergyUse(kBtu) (consommation totale d’énergie de bâtiments)\n",
    "# - GHGEmissions(MetricTonsCO2e) (prédire les émissions de CO2)"
   ]
  },
  {
   "cell_type": "code",
   "execution_count": null,
   "metadata": {},
   "outputs": [],
   "source": [
    "#----------------------#\n",
    "#----------------------#"
   ]
  },
  {
   "cell_type": "code",
   "execution_count": null,
   "metadata": {},
   "outputs": [],
   "source": [
    "#Premier nettoyage, avant analyse des fetures pertinentes."
   ]
  },
  {
   "cell_type": "code",
   "execution_count": null,
   "metadata": {},
   "outputs": [],
   "source": [
    "#----------------------#"
   ]
  },
  {
   "cell_type": "code",
   "execution_count": null,
   "metadata": {},
   "outputs": [],
   "source": [
    "#On effectue un tri sur les buildings non residentiels (on supprime 'Multifamily')"
   ]
  },
  {
   "cell_type": "code",
   "execution_count": 8,
   "metadata": {},
   "outputs": [
    {
     "output_type": "execute_result",
     "data": {
      "text/plain": [
       "NonResidential          1461\n",
       "Multifamily LR (1-4)    1029\n",
       "Multifamily MR (5-9)     554\n",
       "Multifamily HR (10+)     107\n",
       "SPS-District K-12         99\n",
       "Nonresidential COS        68\n",
       "Campus                    22\n",
       "Name: BuildingType, dtype: int64"
      ]
     },
     "metadata": {},
     "execution_count": 8
    }
   ],
   "source": [
    "data2015['BuildingType'].value_counts()"
   ]
  },
  {
   "cell_type": "code",
   "execution_count": null,
   "metadata": {},
   "outputs": [],
   "source": [
    "#SPS-District K-12 -> ecole\n",
    "#Campus -> university, college, etc\n",
    "#Ce ne sont pas des habitations, on les garde dans les donnees."
   ]
  },
  {
   "cell_type": "code",
   "execution_count": 9,
   "metadata": {},
   "outputs": [
    {
     "output_type": "execute_result",
     "data": {
      "text/plain": [
       "array(['NonResidential', 'Nonresidential COS', 'SPS-District K-12',\n",
       "       'Campus'], dtype=object)"
      ]
     },
     "metadata": {},
     "execution_count": 9
    }
   ],
   "source": [
    "#BuildingType ne contenant pas 'Multifamily':\n",
    "data2015[~data2015['BuildingType'].str.contains('Multifamily')]['BuildingType'].unique()"
   ]
  },
  {
   "cell_type": "code",
   "execution_count": 10,
   "metadata": {},
   "outputs": [
    {
     "output_type": "execute_result",
     "data": {
      "text/plain": [
       "array(['NonResidential', 'Nonresidential COS', 'SPS-District K-12',\n",
       "       'Campus', 'Nonresidential WA'], dtype=object)"
      ]
     },
     "metadata": {},
     "execution_count": 10
    }
   ],
   "source": [
    "data2016[~data2016['BuildingType'].str.contains('Multifamily')]['BuildingType'].unique()"
   ]
  },
  {
   "cell_type": "code",
   "execution_count": 11,
   "metadata": {},
   "outputs": [],
   "source": [
    "#On met a jour les dataset, sans les Buildings de type 'Multifamily':\n",
    "data2015 = data2015[~data2015['BuildingType'].str.contains('Multifamily')]\n",
    "data2016 = data2016[~data2016['BuildingType'].str.contains('Multifamily')]"
   ]
  },
  {
   "cell_type": "code",
   "execution_count": 12,
   "metadata": {},
   "outputs": [
    {
     "output_type": "stream",
     "name": "stdout",
     "text": [
      "data2015:\n\nNombre de lignes   supprimees : 1690\nNombre de colonnes supprimees : 0\n"
     ]
    }
   ],
   "source": [
    "print('data2015:\\n')\n",
    "print('Nombre de lignes   supprimees :', nbr_lignes_2015 - data2015.shape[0])\n",
    "print('Nombre de colonnes supprimees :', nbr_colonnes_2015 - data2015.shape[1])\n",
    "nbr_lignes_actuelles_2015 = data2015.shape[0]\n",
    "nbr_colonnes_actuelles_2015 = data2015.shape[1]"
   ]
  },
  {
   "cell_type": "code",
   "execution_count": 13,
   "metadata": {},
   "outputs": [
    {
     "output_type": "stream",
     "name": "stdout",
     "text": [
      "data2016:\n\nNombre de lignes   supprimees : 1708\nNombre de colonnes supprimees : 0\n"
     ]
    }
   ],
   "source": [
    "print('data2016:\\n')\n",
    "print('Nombre de lignes   supprimees :', nbr_lignes_2016 - data2016.shape[0])\n",
    "print('Nombre de colonnes supprimees :', nbr_colonnes_2016 - data2016.shape[1])\n",
    "nbr_lignes_actuelles_2016 = data2016.shape[0]\n",
    "nbr_colonnes_actuelles_2016 = data2016.shape[1]"
   ]
  },
  {
   "cell_type": "code",
   "execution_count": null,
   "metadata": {},
   "outputs": [],
   "source": [
    "#----------------------#"
   ]
  },
  {
   "cell_type": "code",
   "execution_count": 14,
   "metadata": {},
   "outputs": [],
   "source": [
    "#Completion des colonnes LargestPropertyUseType, SecondLargestPropertyUseTypeGFA, ThirdLargestPropertyUseTypeGFA\n",
    "#LargestPropertyUseType, SecondLargestPropertyUseType et ThirdLargestPropertyUseType\n",
    "\n",
    "test = data2015[data2015['LargestPropertyUseType'].astype(str).str.contains('nan')][['PropertyGFATotal', 'PropertyGFAParking', 'PropertyGFABuilding(s)', 'PrimaryPropertyType', 'LargestPropertyUseTypeGFA', 'LargestPropertyUseType', 'SecondLargestPropertyUseTypeGFA', 'SecondLargestPropertyUseType', 'ThirdLargestPropertyUseTypeGFA', 'ThirdLargestPropertyUseType']]\n",
    "\n",
    "#Gestion des 'NaN' pour LargestPropertyUseTypeGFA, SecondLargestPropertyUseTypeGFA et ThirdLargestPropertyUseTypeGFA :\n",
    "#LargestPropertyUseTypeGFA = max(PropertyGFAParking, PropertyGFABuilding(s))\n",
    "test['LargestPropertyUseTypeGFA'] = test[['PropertyGFABuilding(s)', 'PropertyGFAParking']].max(axis=1)\n",
    "#SecondLargestPropertyUseTypeGFA = min(PropertyGFAParking, PropertyGFABuilding(s))\n",
    "test['SecondLargestPropertyUseTypeGFA'] = test[['PropertyGFABuilding(s)', 'PropertyGFAParking']].min(axis=1)\n",
    "#ThirdLargestPropertyUseTypeGFA = PropertyGFATotal - PropertyGFABuilding(s) - PropertyGFAParking\n",
    "test['ThirdLargestPropertyUseTypeGFA'] = test['PropertyGFATotal'] - test['PropertyGFABuilding(s)'] - test['PropertyGFAParking']\n",
    "\n",
    "#Gestion des 'NaN' pour LargestPropertyUseType, SecondLargestPropertyUseType et ThirdLargestPropertyUseType :\n",
    "#LargestPropertyUseType <- PrimaryPropertyType\n",
    "test['LargestPropertyUseType'] = test['PrimaryPropertyType']\n",
    "#SecondLargestPropertyUseType <- Parking ou noInfo\n",
    "test['SecondLargestPropertyUseType'] = test[test['SecondLargestPropertyUseTypeGFA'] != 0 & test['SecondLargestPropertyUseType'].astype(str).str.contains('nan')]['SecondLargestPropertyUseType'].replace(np.nan, 'Parking', regex=True)\n",
    "test['SecondLargestPropertyUseType'] = test['SecondLargestPropertyUseType'].replace(np.nan, 'noInfo', regex=True)\n",
    "#ThirdLargestPropertyUseType <- noInfo\n",
    "test['ThirdLargestPropertyUseType'] = 'noInfo'\n",
    "\n",
    "data2015 = test.combine_first(data2015)"
   ]
  },
  {
   "cell_type": "code",
   "execution_count": 15,
   "metadata": {},
   "outputs": [],
   "source": [
    "#Completion des colonnes LargestPropertyUseType, SecondLargestPropertyUseTypeGFA, ThirdLargestPropertyUseTypeGFA\n",
    "#LargestPropertyUseType, SecondLargestPropertyUseType et ThirdLargestPropertyUseType\n",
    "\n",
    "test = data2016[data2016['LargestPropertyUseType'].astype(str).str.contains('nan')][['PropertyGFATotal', 'PropertyGFAParking', 'PropertyGFABuilding(s)', 'PrimaryPropertyType', 'LargestPropertyUseTypeGFA', 'LargestPropertyUseType', 'SecondLargestPropertyUseTypeGFA', 'SecondLargestPropertyUseType', 'ThirdLargestPropertyUseTypeGFA', 'ThirdLargestPropertyUseType']]\n",
    "\n",
    "#Gestion des 'NaN' pour LargestPropertyUseTypeGFA, SecondLargestPropertyUseTypeGFA et ThirdLargestPropertyUseTypeGFA :\n",
    "#LargestPropertyUseTypeGFA = max(PropertyGFAParking, PropertyGFABuilding(s))\n",
    "test['LargestPropertyUseTypeGFA'] = test[['PropertyGFABuilding(s)', 'PropertyGFAParking']].max(axis=1)\n",
    "#SecondLargestPropertyUseTypeGFA = min(PropertyGFAParking, PropertyGFABuilding(s))\n",
    "test['SecondLargestPropertyUseTypeGFA'] = test[['PropertyGFABuilding(s)', 'PropertyGFAParking']].min(axis=1)\n",
    "#ThirdLargestPropertyUseTypeGFA = PropertyGFATotal - PropertyGFABuilding(s) - PropertyGFAParking\n",
    "test['ThirdLargestPropertyUseTypeGFA'] = test['PropertyGFATotal'] - test['PropertyGFABuilding(s)'] - test['PropertyGFAParking']\n",
    "\n",
    "#Gestion des 'NaN' pour LargestPropertyUseType, SecondLargestPropertyUseType et ThirdLargestPropertyUseType :\n",
    "#LargestPropertyUseType <- PrimaryPropertyType\n",
    "test['LargestPropertyUseType'] = test['PrimaryPropertyType']\n",
    "#SecondLargestPropertyUseType <- Parking ou noInfo\n",
    "test['SecondLargestPropertyUseType'] = test[test['SecondLargestPropertyUseTypeGFA'] != 0 & test['SecondLargestPropertyUseType'].astype(str).str.contains('nan')]['SecondLargestPropertyUseType'].replace(np.nan, 'Parking', regex=True)\n",
    "test['SecondLargestPropertyUseType'] = test['SecondLargestPropertyUseType'].replace(np.nan, 'noInfo', regex=True)\n",
    "#ThirdLargestPropertyUseType <- noInfo\n",
    "test['ThirdLargestPropertyUseType'] = 'noInfo'\n",
    "\n",
    "data2016 = test.combine_first(data2016)"
   ]
  },
  {
   "cell_type": "code",
   "execution_count": null,
   "metadata": {},
   "outputs": [],
   "source": [
    "#----------------------#"
   ]
  },
  {
   "cell_type": "code",
   "execution_count": 16,
   "metadata": {},
   "outputs": [],
   "source": [
    "#Pour les valeurs de SecondLargestPropertyUseTypeGFA != 0, on remplace les NaN de SecondLargestPropertyUseType par 'Parking'\n",
    "data2015['SecondLargestPropertyUseType'] = data2015[data2015['SecondLargestPropertyUseTypeGFA'] != 0 & data2015['SecondLargestPropertyUseType'].astype(str).str.contains('nan')]['SecondLargestPropertyUseType'].replace(np.nan, 'Parking', regex=True)\n",
    "\n",
    "data2016['SecondLargestPropertyUseType'] = data2016[data2016['SecondLargestPropertyUseTypeGFA'] != 0 & data2016['SecondLargestPropertyUseType'].astype(str).str.contains('nan')]['SecondLargestPropertyUseType'].replace(np.nan, 'Parking', regex=True)"
   ]
  },
  {
   "cell_type": "code",
   "execution_count": null,
   "metadata": {},
   "outputs": [],
   "source": [
    "#----------------------#"
   ]
  },
  {
   "cell_type": "code",
   "execution_count": 17,
   "metadata": {},
   "outputs": [],
   "source": [
    "#On supprime la donnee emission de CO2 dont on a pas besoin.\n",
    "#Notre cible (CO2) : GHGEmissions(MetricTonsCO2e)\n",
    "data2015 = data2015.drop(columns=['GHGEmissionsIntensity(kgCO2e/ft2)'])\n",
    "data2016 = data2016.drop(columns=['GHGEmissionsIntensity(kgCO2e/ft2)'])"
   ]
  },
  {
   "cell_type": "code",
   "execution_count": null,
   "metadata": {},
   "outputs": [],
   "source": [
    "#----------------------#"
   ]
  },
  {
   "cell_type": "code",
   "execution_count": 18,
   "metadata": {},
   "outputs": [],
   "source": [
    "#On supprime toutes les 'energies' pour eviter tout data leakage! (sauf ENERGYSTARScore et SiteEnergyUse(kBtu) qui est la cible)\n",
    "data2015 = data2015.drop(columns=['SiteEUI(kBtu/sf)', 'SiteEUIWN(kBtu/sf)', 'SourceEUI(kBtu/sf)', 'SourceEUIWN(kBtu/sf)', 'SiteEnergyUseWN(kBtu)', 'SteamUse(kBtu)', 'Electricity(kWh)', 'Electricity(kBtu)', 'NaturalGas(therms)', 'NaturalGas(kBtu)', 'OtherFuelUse(kBtu)'])\n",
    "data2016 = data2016.drop(columns=['SiteEUI(kBtu/sf)', 'SiteEUIWN(kBtu/sf)', 'SourceEUI(kBtu/sf)', 'SourceEUIWN(kBtu/sf)', 'SiteEnergyUseWN(kBtu)', 'SteamUse(kBtu)', 'Electricity(kWh)', 'Electricity(kBtu)', 'NaturalGas(therms)', 'NaturalGas(kBtu)'])"
   ]
  },
  {
   "cell_type": "code",
   "execution_count": 19,
   "metadata": {},
   "outputs": [
    {
     "output_type": "stream",
     "name": "stdout",
     "text": [
      "data2015:\n\nNombre de lignes   supprimees : 0\nNombre de colonnes supprimees : 12\n"
     ]
    }
   ],
   "source": [
    "print('data2015:\\n')\n",
    "print('Nombre de lignes   supprimees :', nbr_lignes_actuelles_2015 - data2015.shape[0])\n",
    "print('Nombre de colonnes supprimees :', nbr_colonnes_actuelles_2015 - data2015.shape[1])\n",
    "nbr_lignes_actuelles_2015 = data2015.shape[0]\n",
    "nbr_colonnes_actuelles_2015 = data2015.shape[1]"
   ]
  },
  {
   "cell_type": "code",
   "execution_count": 20,
   "metadata": {},
   "outputs": [
    {
     "output_type": "stream",
     "name": "stdout",
     "text": [
      "data2016:\n\nNombre de lignes   supprimees : 0\nNombre de colonnes supprimees : 11\n"
     ]
    }
   ],
   "source": [
    "print('data2016:\\n')\n",
    "print('Nombre de lignes   supprimees :', nbr_lignes_actuelles_2016 - data2016.shape[0])\n",
    "print('Nombre de colonnes supprimees :', nbr_colonnes_actuelles_2016 - data2016.shape[1])\n",
    "nbr_lignes_actuelles_2016 = data2016.shape[0]\n",
    "nbr_colonnes_actuelles_2016 = data2016.shape[1]"
   ]
  },
  {
   "cell_type": "code",
   "execution_count": null,
   "metadata": {},
   "outputs": [],
   "source": [
    "#----------------------#"
   ]
  },
  {
   "cell_type": "code",
   "execution_count": null,
   "metadata": {},
   "outputs": [],
   "source": [
    "#On separe latitude et longitude en deux colonnes distinctes, pour data2015"
   ]
  },
  {
   "cell_type": "code",
   "execution_count": 21,
   "metadata": {},
   "outputs": [],
   "source": [
    "data2015['Latitude'] = data2015['Location'].apply(lambda x: gpf.extract_int_from_string(x, 'latitude', 'longitude'))"
   ]
  },
  {
   "cell_type": "code",
   "execution_count": 22,
   "metadata": {},
   "outputs": [],
   "source": [
    "data2015['Longitude'] = data2015['Location'].apply(lambda x: gpf.extract_int_from_string(x, 'longitude', 'human_address'))"
   ]
  },
  {
   "cell_type": "code",
   "execution_count": 23,
   "metadata": {},
   "outputs": [],
   "source": [
    "data2015 = data2015.drop(columns=['Location'])"
   ]
  },
  {
   "cell_type": "code",
   "execution_count": null,
   "metadata": {},
   "outputs": [],
   "source": [
    "#----------------------#"
   ]
  },
  {
   "cell_type": "code",
   "execution_count": null,
   "metadata": {},
   "outputs": [],
   "source": [
    "#Discretisation des features YearBuilt, NumberofBuildings et NumberofFloors"
   ]
  },
  {
   "cell_type": "code",
   "execution_count": 19,
   "metadata": {},
   "outputs": [],
   "source": [
    "#On decoupe la colonne YearBuilt en tranches de 10 ans"
   ]
  },
  {
   "cell_type": "code",
   "execution_count": 24,
   "metadata": {},
   "outputs": [],
   "source": [
    "bins = [1900, 1910, 1920, 1930, 1940, 1950, 1960, 1970, 1980, 1990, 2000, 2010, 2014]\n",
    "data2015['YearBuilt'] = pd.cut(data2015['YearBuilt'], bins)\n",
    "data2016['YearBuilt'] = pd.cut(data2016['YearBuilt'], bins)"
   ]
  },
  {
   "cell_type": "code",
   "execution_count": null,
   "metadata": {},
   "outputs": [],
   "source": [
    "#On decoupe la colonne NumberofBuildings en tranches de 10"
   ]
  },
  {
   "cell_type": "code",
   "execution_count": 25,
   "metadata": {},
   "outputs": [],
   "source": [
    "bins = [0, 10, 20, 30, 40]\n",
    "data2015['NumberofBuildings'] = pd.cut(data2015['NumberofBuildings'], bins)\n",
    "data2016['NumberofBuildings'] = pd.cut(data2016['NumberofBuildings'], bins)"
   ]
  },
  {
   "cell_type": "code",
   "execution_count": null,
   "metadata": {},
   "outputs": [],
   "source": [
    "#On decoupe la colonne NumberofFloors en tranches de 10 etages"
   ]
  },
  {
   "cell_type": "code",
   "execution_count": 26,
   "metadata": {},
   "outputs": [],
   "source": [
    "bins = [0, 10, 20, 30, 40, 50, 60, 70, 80, 90, 100]\n",
    "data2015['NumberofFloors'] = pd.cut(data2015['NumberofFloors'], bins)\n",
    "data2016['NumberofFloors'] = pd.cut(data2016['NumberofFloors'], bins)"
   ]
  },
  {
   "cell_type": "code",
   "execution_count": 28,
   "metadata": {},
   "outputs": [
    {
     "output_type": "execute_result",
     "data": {
      "text/plain": [
       "  NumberofBuildings NumberofFloors     YearBuilt\n",
       "0           (0, 10]       (10, 20]  (1920, 1930]\n",
       "1           (0, 10]       (10, 20]  (1990, 2000]\n",
       "2           (0, 10]       (40, 50]  (1960, 1970]\n",
       "3           (0, 10]        (0, 10]  (1920, 1930]\n",
       "4           (0, 10]       (10, 20]  (1970, 1980]"
      ],
      "text/html": "<div>\n<style scoped>\n    .dataframe tbody tr th:only-of-type {\n        vertical-align: middle;\n    }\n\n    .dataframe tbody tr th {\n        vertical-align: top;\n    }\n\n    .dataframe thead th {\n        text-align: right;\n    }\n</style>\n<table border=\"1\" class=\"dataframe\">\n  <thead>\n    <tr style=\"text-align: right;\">\n      <th></th>\n      <th>NumberofBuildings</th>\n      <th>NumberofFloors</th>\n      <th>YearBuilt</th>\n    </tr>\n  </thead>\n  <tbody>\n    <tr>\n      <th>0</th>\n      <td>(0, 10]</td>\n      <td>(10, 20]</td>\n      <td>(1920, 1930]</td>\n    </tr>\n    <tr>\n      <th>1</th>\n      <td>(0, 10]</td>\n      <td>(10, 20]</td>\n      <td>(1990, 2000]</td>\n    </tr>\n    <tr>\n      <th>2</th>\n      <td>(0, 10]</td>\n      <td>(40, 50]</td>\n      <td>(1960, 1970]</td>\n    </tr>\n    <tr>\n      <th>3</th>\n      <td>(0, 10]</td>\n      <td>(0, 10]</td>\n      <td>(1920, 1930]</td>\n    </tr>\n    <tr>\n      <th>4</th>\n      <td>(0, 10]</td>\n      <td>(10, 20]</td>\n      <td>(1970, 1980]</td>\n    </tr>\n  </tbody>\n</table>\n</div>"
     },
     "metadata": {},
     "execution_count": 28
    }
   ],
   "source": [
    "data2015.select_dtypes(include=['category']).head()"
   ]
  },
  {
   "cell_type": "code",
   "execution_count": null,
   "metadata": {},
   "outputs": [],
   "source": [
    "#----------------------#"
   ]
  },
  {
   "cell_type": "code",
   "execution_count": 49,
   "metadata": {},
   "outputs": [
    {
     "output_type": "stream",
     "name": "stdout",
     "text": [
      "data2015:\n\nPourcentage de 0 dans valeur cible SiteEnergyUse(kBtu):          0.12 %\nPourcentage de 0 dans valeur cible GHGEmissions(MetricTonsCO2e): 0.12 %\n"
     ]
    }
   ],
   "source": [
    "print('data2015:\\n')\n",
    "print('Pourcentage de 0 dans valeur cible SiteEnergyUse(kBtu):          {:.2f} %'.format(data2015[data2015['SiteEnergyUse(kBtu)'] == 0].shape[0] / data2015.shape[0] * 100))\n",
    "print('Pourcentage de 0 dans valeur cible GHGEmissions(MetricTonsCO2e): {:.2f} %'.format(data2015[data2015['GHGEmissions(MetricTonsCO2e)'] == 0].shape[0] / data2015.shape[0] * 100))"
   ]
  },
  {
   "cell_type": "code",
   "execution_count": 50,
   "metadata": {},
   "outputs": [
    {
     "output_type": "stream",
     "name": "stdout",
     "text": [
      "data2016:\n\nPourcentage de 0 dans valeur cible SiteEnergyUse(kBtu):          0.96 %\nPourcentage de 0 dans valeur cible GHGEmissions(MetricTonsCO2e): 0.36 %\n"
     ]
    }
   ],
   "source": [
    "print('data2016:\\n')\n",
    "print('Pourcentage de 0 dans valeur cible SiteEnergyUse(kBtu):          {:.2f} %'.format(data2016[data2016['SiteEnergyUse(kBtu)'] == 0].shape[0] / data2016.shape[0] * 100))\n",
    "print('Pourcentage de 0 dans valeur cible GHGEmissions(MetricTonsCO2e): {:.2f} %'.format(data2016[data2016['GHGEmissions(MetricTonsCO2e)'] == 0].shape[0] / data2016.shape[0] * 100))"
   ]
  },
  {
   "cell_type": "code",
   "execution_count": 60,
   "metadata": {},
   "outputs": [],
   "source": [
    "#Pour les cibles (caracteristiques a predire), la quantite de 0 represente moins de 1% des donnees.\n",
    "#Cette quantite etant tres faible, on accepte de les traiter en les supprimant simplement.\n",
    "data2015 = data2015[data2015['SiteEnergyUse(kBtu)'] != 0]\n",
    "data2015 = data2015[data2015['GHGEmissions(MetricTonsCO2e)'] != 0]\n",
    "\n",
    "data2016 = data2015[data2015['SiteEnergyUse(kBtu)'] != 0]\n",
    "data2016 = data2015[data2015['GHGEmissions(MetricTonsCO2e)'] != 0]"
   ]
  },
  {
   "cell_type": "code",
   "execution_count": 58,
   "metadata": {},
   "outputs": [
    {
     "output_type": "stream",
     "name": "stdout",
     "text": [
      "data2015:\n\nPourcentage de 0 dans valeur cible SiteEnergyUse(kBtu):          0.42 %\nPourcentage de 0 dans valeur cible GHGEmissions(MetricTonsCO2e): 0.42 %\n"
     ]
    }
   ],
   "source": [
    "print('data2015:\\n')\n",
    "print('Pourcentage de 0 dans valeur cible SiteEnergyUse(kBtu):          {:.2f} %'.format((len(data2015['SiteEnergyUse(kBtu)']) - len(data2015['SiteEnergyUse(kBtu)'].dropna()))/len(data2015['SiteEnergyUse(kBtu)'])*100))\n",
    "print('Pourcentage de 0 dans valeur cible GHGEmissions(MetricTonsCO2e): {:.2f} %'.format((len(data2015['GHGEmissions(MetricTonsCO2e)']) - len(data2015['GHGEmissions(MetricTonsCO2e)'].dropna()))/len(data2015['GHGEmissions(MetricTonsCO2e)'])*100))"
   ]
  },
  {
   "cell_type": "code",
   "execution_count": 59,
   "metadata": {},
   "outputs": [
    {
     "output_type": "stream",
     "name": "stdout",
     "text": [
      "data2016:\n\nPourcentage de 0 dans valeur cible SiteEnergyUse(kBtu):          0.12 %\nPourcentage de 0 dans valeur cible GHGEmissions(MetricTonsCO2e): 0.12 %\n"
     ]
    }
   ],
   "source": [
    "print('data2016:\\n')\n",
    "print('Pourcentage de 0 dans valeur cible SiteEnergyUse(kBtu):          {:.2f} %'.format((len(data2016['SiteEnergyUse(kBtu)']) - len(data2016['SiteEnergyUse(kBtu)'].dropna()))/len(data2016['SiteEnergyUse(kBtu)'])*100))\n",
    "print('Pourcentage de 0 dans valeur cible GHGEmissions(MetricTonsCO2e): {:.2f} %'.format((len(data2016['GHGEmissions(MetricTonsCO2e)']) - len(data2016['GHGEmissions(MetricTonsCO2e)'].dropna()))/len(data2016['GHGEmissions(MetricTonsCO2e)'])*100))"
   ]
  },
  {
   "cell_type": "code",
   "execution_count": 61,
   "metadata": {},
   "outputs": [],
   "source": [
    "#Pour les cibles (caracteristiques a predire), la quantite de 'NaN' represente moins de 1 % des donnees.\n",
    "#Cette quantite etant tres faible, on accepte de les traiter en les supprimant simplement.\n",
    "data2015 = data2015.dropna(subset=['SiteEnergyUse(kBtu)'])\n",
    "data2015 = data2015.dropna(subset=['GHGEmissions(MetricTonsCO2e)'])\n",
    "\n",
    "data2016 = data2016.dropna(subset=['SiteEnergyUse(kBtu)'])\n",
    "data2016 = data2016.dropna(subset=['GHGEmissions(MetricTonsCO2e)'])"
   ]
  },
  {
   "cell_type": "code",
   "execution_count": null,
   "metadata": {},
   "outputs": [],
   "source": [
    "#----------------------#"
   ]
  },
  {
   "cell_type": "code",
   "execution_count": 62,
   "metadata": {},
   "outputs": [],
   "source": [
    "#On met les deux colonnes cibles en derniere position\n",
    "data2015['cible_ernegie'] = data2015['SiteEnergyUse(kBtu)']\n",
    "data2015['cible_co2'] = data2015['GHGEmissions(MetricTonsCO2e)']\n",
    "\n",
    "data2015 = data2015.drop(columns=['SiteEnergyUse(kBtu)', 'GHGEmissions(MetricTonsCO2e)'])\n",
    "\n",
    "data2015 = data2015.rename(columns={'cible_ernegie': 'SiteEnergyUse(kBtu)', 'cible_co2': 'GHGEmissions(MetricTonsCO2e)'})"
   ]
  },
  {
   "cell_type": "code",
   "execution_count": 63,
   "metadata": {},
   "outputs": [],
   "source": [
    "data2016['cible_ernegie'] = data2016['SiteEnergyUse(kBtu)']\n",
    "data2016['cible_co2'] = data2016['GHGEmissions(MetricTonsCO2e)']\n",
    "\n",
    "data2016 = data2016.drop(columns=['SiteEnergyUse(kBtu)', 'GHGEmissions(MetricTonsCO2e)'])\n",
    "\n",
    "data2016 = data2016.rename(columns={'cible_ernegie': 'SiteEnergyUse(kBtu)', 'cible_co2': 'GHGEmissions(MetricTonsCO2e)'})"
   ]
  },
  {
   "cell_type": "code",
   "execution_count": null,
   "metadata": {},
   "outputs": [],
   "source": [
    "#----------------------#"
   ]
  },
  {
   "cell_type": "code",
   "execution_count": 65,
   "metadata": {},
   "outputs": [
    {
     "output_type": "stream",
     "name": "stdout",
     "text": [
      "data2015 shape:  (1641, 36)\n\nNombre de lignes   supprimees : 1699\nNombre de colonnes supprimees : 11\n\nNombre de lignes   supprimees : 50.9 %\nNombre de colonnes supprimees : 23.4 %\n"
     ]
    }
   ],
   "source": [
    "print('data2015 shape: ', data2015.shape)\n",
    "print('\\nNombre de lignes   supprimees :', nbr_lignes_2015 - data2015.shape[0])\n",
    "print('Nombre de colonnes supprimees :', nbr_colonnes_2015 - data2015.shape[1])\n",
    "\n",
    "print('\\nNombre de lignes   supprimees : {:.1f} %'.format((nbr_lignes_2015 - data2015.shape[0])/nbr_lignes_2015*100))\n",
    "print('Nombre de colonnes supprimees : {:.1f} %'.format((nbr_colonnes_2015 - data2015.shape[1])/nbr_colonnes_2015*100))"
   ]
  },
  {
   "cell_type": "code",
   "execution_count": 66,
   "metadata": {},
   "outputs": [
    {
     "output_type": "stream",
     "name": "stdout",
     "text": [
      "data2016 shape:  (1641, 36)\n\nNombre de lignes   supprimees : 1735\nNombre de colonnes supprimees : 10\n\nNombre de lignes   supprimees : 51.4 %\nNombre de colonnes supprimees : 21.7 %\n"
     ]
    }
   ],
   "source": [
    "print('data2016 shape: ', data2016.shape)\n",
    "print('\\nNombre de lignes   supprimees :', nbr_lignes_2016 - data2016.shape[0])\n",
    "print('Nombre de colonnes supprimees :', nbr_colonnes_2016 - data2016.shape[1])\n",
    "\n",
    "print('\\nNombre de lignes   supprimees : {:.1f} %'.format((nbr_lignes_2016 - data2016.shape[0])/nbr_lignes_2016*100))\n",
    "print('Nombre de colonnes supprimees : {:.1f} %'.format((nbr_colonnes_2016 - data2016.shape[1])/nbr_colonnes_2016*100))"
   ]
  },
  {
   "cell_type": "code",
   "execution_count": null,
   "metadata": {},
   "outputs": [],
   "source": [
    "#----------------------#"
   ]
  },
  {
   "cell_type": "code",
   "execution_count": null,
   "metadata": {},
   "outputs": [],
   "source": [
    "#Dataset pour l'ENERGYSTARScore:"
   ]
  },
  {
   "cell_type": "code",
   "execution_count": 67,
   "metadata": {},
   "outputs": [],
   "source": [
    "data2015_ess = data2015.dropna(subset=['ENERGYSTARScore'])\n",
    "data2016_ess = data2016.dropna(subset=['ENERGYSTARScore'])"
   ]
  },
  {
   "cell_type": "code",
   "execution_count": null,
   "metadata": {},
   "outputs": [],
   "source": [
    "#----------------------#"
   ]
  },
  {
   "cell_type": "code",
   "execution_count": null,
   "metadata": {},
   "outputs": [],
   "source": [
    "#sans ENERGYSTARScore:"
   ]
  },
  {
   "cell_type": "code",
   "execution_count": 68,
   "metadata": {},
   "outputs": [],
   "source": [
    "#Pour les colonnes qualitatives, on remplace les 'NaN' par 'noInfo'\n",
    "tmp1 = data2015.select_dtypes(include=['object', 'category']).replace(np.nan, 'noInfo', regex=True)\n",
    "\n",
    "#Pour les colonnes quantitatives, on remplace les 'NaN' par 0\n",
    "tmp2 = data2015.select_dtypes(exclude=['object', 'category']).fillna(0)\n",
    "\n",
    "data2015 = pd.concat([tmp1, tmp2], axis=1)"
   ]
  },
  {
   "cell_type": "code",
   "execution_count": 69,
   "metadata": {},
   "outputs": [],
   "source": [
    "#Pour les colonnes qualitatives, on remplace les 'NaN' par 'noInfo'\n",
    "tmp1 = data2016.select_dtypes(include=['object', 'category']).replace(np.nan, 'noInfo', regex=True)\n",
    "\n",
    "#Pour les colonnes quantitatives, on remplace les 'NaN' par 0\n",
    "tmp2 = data2016.select_dtypes(exclude=['object', 'category']).fillna(0)\n",
    "\n",
    "data2016 = pd.concat([tmp1, tmp2], axis=1)"
   ]
  },
  {
   "cell_type": "code",
   "execution_count": null,
   "metadata": {},
   "outputs": [],
   "source": [
    "#avec ENERGYSTARScore:"
   ]
  },
  {
   "cell_type": "code",
   "execution_count": 70,
   "metadata": {},
   "outputs": [],
   "source": [
    "#Pour les colonnes qualitatives, on remplace les 'NaN' par 'noInfo'\n",
    "tmp1 = data2015_ess.select_dtypes(include=['object', 'category']).replace(np.nan, 'noInfo', regex=True)\n",
    "\n",
    "#Pour les colonnes quantitatives, on remplace les 'NaN' par 0\n",
    "tmp2 = data2015_ess.select_dtypes(exclude=['object', 'category']).fillna(0)\n",
    "\n",
    "data2015_ess = pd.concat([tmp1, tmp2], axis=1)"
   ]
  },
  {
   "cell_type": "code",
   "execution_count": 71,
   "metadata": {},
   "outputs": [],
   "source": [
    "#Pour les colonnes qualitatives, on remplace les 'NaN' par 'noInfo'\n",
    "tmp1 = data2016_ess.select_dtypes(include=['object', 'category']).replace(np.nan, 'noInfo', regex=True)\n",
    "\n",
    "#Pour les colonnes quantitatives, on remplace les 'NaN' par 0\n",
    "tmp2 = data2016_ess.select_dtypes(exclude=['object', 'category']).fillna(0)\n",
    "\n",
    "data2016_ess = pd.concat([tmp1, tmp2], axis=1)"
   ]
  },
  {
   "cell_type": "code",
   "execution_count": null,
   "metadata": {},
   "outputs": [],
   "source": [
    "#----------------------#"
   ]
  },
  {
   "cell_type": "code",
   "execution_count": 72,
   "metadata": {},
   "outputs": [
    {
     "output_type": "stream",
     "name": "stdout",
     "text": [
      "data2015 noEss shape:  (1641, 36)\ndata2016 noEss shape:  (1641, 36)\ndata2015 Ess   shape:  (1117, 36)\ndata2016 Ess   shape:  (1117, 36)\n"
     ]
    }
   ],
   "source": [
    "print('data2015 noEss shape: ', data2015.shape)\n",
    "print('data2016 noEss shape: ', data2016.shape)\n",
    "print('data2015 Ess   shape: ', data2015_ess.shape)\n",
    "print('data2016 Ess   shape: ', data2016_ess.shape)"
   ]
  },
  {
   "cell_type": "code",
   "execution_count": 25,
   "metadata": {},
   "outputs": [],
   "source": [
    "#On enregistre ces donnees pour la suite du projet:"
   ]
  },
  {
   "cell_type": "code",
   "execution_count": 73,
   "metadata": {},
   "outputs": [],
   "source": [
    "#sans ENERGYSTARScore:\n",
    "data2015.to_csv('data2015_noEss.csv')\n",
    "data2016.to_csv('data2016_noEss.csv')"
   ]
  },
  {
   "cell_type": "code",
   "execution_count": 74,
   "metadata": {},
   "outputs": [],
   "source": [
    "#avec ENERGYSTARScore:\n",
    "data2015_ess.to_csv('data2015_ess.csv')\n",
    "data2016_ess.to_csv('data2016_ess.csv')"
   ]
  },
  {
   "cell_type": "code",
   "execution_count": null,
   "metadata": {},
   "outputs": [],
   "source": []
  }
 ]
}